{
 "cells": [
  {
   "cell_type": "code",
   "execution_count": 1,
   "metadata": {},
   "outputs": [],
   "source": [
    "import pandas as pd\n",
    "import numpy as np\n",
    "import matplotlib.pyplot as plt\n",
    "import seaborn as sns\n",
    "import ipywidgets as widgets\n",
    "\n",
    "from __future__ import print_function\n",
    "from ipywidgets import interact, interactive, fixed, interact_manual\n",
    "from sklearn import metrics\n",
    "from sklearn.linear_model import LinearRegression\n",
    "from sklearn.model_selection import train_test_split\n",
    "from sklearn.metrics import r2_score,mean_squared_error\n",
    "\n",
    "# READING AND CLEANING DATA\n",
    "#filePath = r\"C:\\Users\\jeffr\\OneDrive\\Desktop\\vgsales.csv\"\n",
    "filePath = \"https://raw.githubusercontent.com/JeffreyDAnderson/WGU_C964_Capstone_001397587/main/vgsales.csv\"\n",
    "\n",
    "dataset = pd.read_csv(filePath, header=0, usecols=['Platform','Year','Genre','Publisher','NA_Sales'], dtype={'Year':'Int64'})\n",
    "\n",
    "# CLEANING FUNCTION FOR DATASET\n",
    "# ALL ROWS WITH ANY MISSING DATA ARE DROPPED\n",
    "# AS WELL AS ROWS LATER THAN 2016\n",
    "def clean(dataset):\n",
    "    dataset.dropna(inplace = True)\n",
    "    dataset = dataset.loc[dataset['Year'] < 2016]\n",
    "    return dataset\n",
    "\n",
    "video_game_sales = clean(dataset)\n",
    "recent_consoles = video_game_sales[video_game_sales['Year'] >= 2012]\n",
    "\n",
    "PLATFORMS = recent_consoles.Platform.unique()\n",
    "GENRES = video_game_sales.Genre.unique()\n",
    "SALES_DATA_YEARS = video_game_sales.Year.unique()\n",
    "YEARS = list(range(2015, 1979, -1))\n",
    "PREDICTION_YEARS = list(range(2021, 2031))"
   ]
  },
  {
   "cell_type": "code",
   "execution_count": 2,
   "metadata": {},
   "outputs": [],
   "source": [
    "# PREDICTION FUNCTIONS: USES LINEAR REGRESSION ALONG WITH A GENRE AND\n",
    "# A YEAR TO PREDICT SALES FOR THAT YEAR\n",
    "def salesPrediction(Genre, Year):\n",
    "    sales = genresDict[Genre].sum()\n",
    "    sales = sales.reset_index('Year')\n",
    "    X = sales.iloc[:, :-1].values\n",
    "    y = sales.iloc[:, 1].values\n",
    "    X_train, X_test, y_train, y_test = train_test_split(X, y, test_size=0.2, random_state=0)\n",
    "    regressor = LinearRegression()\n",
    "    regressor.fit(X_train, y_train)\n",
    "    y_pred = regressor.predict(X_test)\n",
    "    estSales = int(regressor.coef_ * int(Year) + regressor.intercept_)\n",
    "    \n",
    "    print('Estimated sales: ', estSales, 'million\\n')\n",
    "    print('--------------------------------------------------------------------')\n",
    "    print('ANALYSIS:')\n",
    "    print('MAE - Mean Absolute Error: {0:.3f}'.format(metrics.mean_absolute_error(y_test, y_pred)))\n",
    "    print('MSE - Mean Squared Error: {0:.3f}'.format(metrics.mean_squared_error(y_test, y_pred)))\n",
    "    print('RMSE - Root Mean Squared Error: {0:.3f}'.format(np.sqrt(metrics.mean_squared_error(y_test, y_pred))))\n",
    "\n",
    "    \n",
    "def makePrediction(Genre, Year):\n",
    "    salesPrediction(Genre, Year)"
   ]
  },
  {
   "cell_type": "code",
   "execution_count": 3,
   "metadata": {
    "scrolled": true
   },
   "outputs": [],
   "source": [
    "def genreCounts(dataset):\n",
    "    storageDict = {}\n",
    "    for i in GENRES:\n",
    "        tempdf = dataset[dataset['Genre'] == i]\n",
    "        tempdf = tempdf.groupby(['Year'])\n",
    "        storageDict[i] = tempdf\n",
    "    return storageDict\n",
    "\n",
    "\n",
    "def genreSalesPerYear(genreDict):\n",
    "    storageDict = {}\n",
    "    for i in GENRES:\n",
    "        tempdf = genreDict[i]\n",
    "        sales_per_year = tempdf.sum()\n",
    "        storageDict[i] = sales_per_year\n",
    "    return storageDict\n",
    "\n",
    "\n",
    "def platformCounts(dataset):\n",
    "    storageDict = {}\n",
    "    for i in PLATFORMS:\n",
    "        tempdf = dataset[dataset['Platform'] == i]\n",
    "        tempdf = tempdf.groupby(['Year'])\n",
    "        storageDict[i] = tempdf\n",
    "    return storageDict\n",
    "\n",
    "\n",
    "def platformSalesPerYear(platformDict):\n",
    "    storageDict = {}\n",
    "    for i in PLATFORMS:\n",
    "        tempdf = platformDict[i]\n",
    "        platform_per_year = tempdf.sum()\n",
    "        storageDict[i] = platform_per_year\n",
    "    return storageDict\n",
    "\n",
    "\n",
    "# VARIABLES TO MAKE GRAPHING EASIER\n",
    "genresDict = genreCounts(dataset)\n",
    "genreSales = genreSalesPerYear(genresDict)\n",
    "\n",
    "platformDict = platformCounts(video_game_sales)\n",
    "platformSales = platformSalesPerYear(platformDict)"
   ]
  },
  {
   "cell_type": "markdown",
   "metadata": {},
   "source": [
    "# VAGABOND STUDIOS MARKET ANALYSIS TOOL\n",
    "<hr>"
   ]
  },
  {
   "cell_type": "markdown",
   "metadata": {},
   "source": [
    "### SALES PER YEAR BY GENRE\n",
    "#### SELECT WHICH GENRE YOU WOULD LIKE TO VIEW SALES FOR"
   ]
  },
  {
   "cell_type": "code",
   "execution_count": 4,
   "metadata": {},
   "outputs": [
    {
     "data": {
      "application/vnd.jupyter.widget-view+json": {
       "model_id": "e6199cc6b9c94a97b9b4184d463639e6",
       "version_major": 2,
       "version_minor": 0
      },
      "text/plain": [
       "interactive(children=(Dropdown(description='Genre', options=('Sports', 'Platform', 'Racing', 'Role-Playing', '…"
      ]
     },
     "metadata": {},
     "output_type": "display_data"
    },
    {
     "data": {
      "text/plain": [
       "<function __main__.changeGenre(Genre)>"
      ]
     },
     "execution_count": 4,
     "metadata": {},
     "output_type": "execute_result"
    }
   ],
   "source": [
    "# GRAPH: TOTAL NORTH AMERICAN SALES PER YEAR BY GENRE\n",
    "\n",
    "def changeGenre(Genre):\n",
    "    plt.plot(genreSales[Genre])\n",
    "    plt.title('North American Sales\\nGenre: ' + str(Genre))\n",
    "    plt.xlabel('Year')\n",
    "    plt.ylabel('Sales in Millions')\n",
    "    plt.show()\n",
    "\n",
    "    \n",
    "interact(changeGenre, Genre=GENRES)"
   ]
  },
  {
   "cell_type": "markdown",
   "metadata": {},
   "source": [
    "<hr>"
   ]
  },
  {
   "cell_type": "markdown",
   "metadata": {},
   "source": [
    "### GAMES RELEASED PER YEAR BY PLATFORM\n",
    "#### SELECT WHICH PLATFORM YOU WOULD LIKE TO SEE NUMBER OF RELEASES ON"
   ]
  },
  {
   "cell_type": "code",
   "execution_count": 5,
   "metadata": {},
   "outputs": [
    {
     "data": {
      "application/vnd.jupyter.widget-view+json": {
       "model_id": "f68090166e2b4f4bb015fd6e4a851483",
       "version_major": 2,
       "version_minor": 0
      },
      "text/plain": [
       "interactive(children=(Dropdown(description='Platform', options=('PS3', 'X360', '3DS', 'PS4', 'DS', 'XOne', 'Wi…"
      ]
     },
     "metadata": {},
     "output_type": "display_data"
    },
    {
     "data": {
      "text/plain": [
       "<function __main__.changePlatform(Platform)>"
      ]
     },
     "execution_count": 5,
     "metadata": {},
     "output_type": "execute_result"
    }
   ],
   "source": [
    "# GRAPH: SHOWS NUMBER OF GAMES RELEASED FOR A SELECTED PLATFORM EACH YEAR\n",
    "\n",
    "def changePlatform(Platform):\n",
    "    plt.plot(platformSales[Platform])\n",
    "    plt.title('North American Sales\\nPlatform: ' + str(Platform))\n",
    "    plt.xlabel('Year')\n",
    "    plt.ylabel('Number of Games Released')\n",
    "    plt.show()\n",
    "\n",
    "    \n",
    "interact(changePlatform, Platform=PLATFORMS)"
   ]
  },
  {
   "cell_type": "markdown",
   "metadata": {},
   "source": [
    "<hr>"
   ]
  },
  {
   "cell_type": "markdown",
   "metadata": {},
   "source": [
    "### PUBLISHERS' CONTROL OF MARKET\n",
    "#### SELECT WHICH YEAR YOU WOULD LIKE TO SEE THE TOP PUBLISHERS"
   ]
  },
  {
   "cell_type": "code",
   "execution_count": 6,
   "metadata": {
    "scrolled": false
   },
   "outputs": [
    {
     "data": {
      "application/vnd.jupyter.widget-view+json": {
       "model_id": "e4fe03272eaa471b8b11ba816e577ae8",
       "version_major": 2,
       "version_minor": 0
      },
      "text/plain": [
       "interactive(children=(Dropdown(description='Year', options=(2015, 2014, 2013, 2012, 2011, 2010, 2009, 2008, 20…"
      ]
     },
     "metadata": {},
     "output_type": "display_data"
    },
    {
     "data": {
      "text/plain": [
       "<function __main__.topPublishers(Year)>"
      ]
     },
     "execution_count": 6,
     "metadata": {},
     "output_type": "execute_result"
    }
   ],
   "source": [
    "# PIE CHART SHOWING PUBLISHERS NUMBER OF GAMES RELEASED FOR A GIVEN YEAR\n",
    "# THIS WILL SHOW WHICH PUBLISHERS ARE POPULAR IN THE GIVEN YEAR\n",
    "\n",
    "def topPublishers(Year):\n",
    "    given_year = publisher_count_by_year[publisher_count_by_year['Year'] == Year]\n",
    "    year_counts = given_year['Publisher'].value_counts()\n",
    "    publishers = pd.DataFrame({'Publisher':year_counts.index, 'Count':year_counts.values})\n",
    "    top = publishers.iloc[:5]\n",
    "    lab = top['Publisher']\n",
    "\n",
    "    plot = top.plot.pie(y='Count', labels=lab, autopct='%1.1f%%')\n",
    "    plot.legend(title=\"Top Publishers: \", loc=\"center left\", bbox_to_anchor=(1, 0, 0.5, 1))\n",
    "    plot.set_title(\"Percent of Publishers' Market Share\")\n",
    "\n",
    "    \n",
    "publisher_count_by_year = video_game_sales.filter(['Year', 'Publisher'], axis=1)\n",
    "    \n",
    "interact(topPublishers, Year=YEARS)"
   ]
  },
  {
   "cell_type": "markdown",
   "metadata": {},
   "source": [
    "<hr>"
   ]
  },
  {
   "cell_type": "markdown",
   "metadata": {},
   "source": [
    "### SALES PREDICTION MODEL\n",
    "#### SELECT A GENRE AND THE YEAR YOU WOULD LIKE THE PREDICTED SALES FOR"
   ]
  },
  {
   "cell_type": "code",
   "execution_count": 7,
   "metadata": {},
   "outputs": [
    {
     "data": {
      "application/vnd.jupyter.widget-view+json": {
       "model_id": "ffd1de21b5e249039e3d2249dba3c6b7",
       "version_major": 2,
       "version_minor": 0
      },
      "text/plain": [
       "interactive(children=(Dropdown(description='Genre', options=('Sports', 'Platform', 'Racing', 'Role-Playing', '…"
      ]
     },
     "metadata": {},
     "output_type": "display_data"
    },
    {
     "data": {
      "text/plain": [
       "<function __main__.makePrediction(Genre, Year)>"
      ]
     },
     "execution_count": 7,
     "metadata": {},
     "output_type": "execute_result"
    }
   ],
   "source": [
    "# PREDICTION MODEL:\n",
    "# SELECT A GENRE AND YEAR TO GET A PREDICTION FOR SALES\n",
    "\n",
    "interact(makePrediction, Genre=GENRES, Year=PREDICTION_YEARS)"
   ]
  },
  {
   "cell_type": "code",
   "execution_count": null,
   "metadata": {},
   "outputs": [],
   "source": []
  }
 ],
 "metadata": {
  "kernelspec": {
   "display_name": "Python 3",
   "language": "python",
   "name": "python3"
  },
  "language_info": {
   "codemirror_mode": {
    "name": "ipython",
    "version": 3
   },
   "file_extension": ".py",
   "mimetype": "text/x-python",
   "name": "python",
   "nbconvert_exporter": "python",
   "pygments_lexer": "ipython3",
   "version": "3.8.5"
  }
 },
 "nbformat": 4,
 "nbformat_minor": 4
}
